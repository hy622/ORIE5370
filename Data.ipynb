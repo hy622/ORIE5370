{
 "cells": [
  {
   "cell_type": "code",
   "execution_count": 17,
   "id": "6177de41",
   "metadata": {},
   "outputs": [],
   "source": [
    "import pandas as pd\n",
    "import yfinance as yf\n",
    "from datetime import datetime\n",
    "import pandas_datareader as pdr\n",
    "import pandas_datareader.data as web\n",
    "\n",
    "tickers = ['AAPL','NVDA','MSFT','LLY','DVA','COR','JPM','BAC','WFC',\"AMZN\", \"NKE\", \"SBUX\",\"GOOGL\", \"META\", \"VZ\",\"BA\", \"MMM\", \"GE\",\"PG\", \"KO\", \"PEP\",\"XOM\", \"CVX\", \"SLB\",\"NEE\", \"DUK\", \"SO\",\"AMT\", \"SPG\", \"PLD\",\"BHP\", \"RIO\", \"ECL\"]\n",
    "start_date = \"2018-12-14\"\n",
    "end_date = \"2024-03-15\""
   ]
  },
  {
   "cell_type": "code",
   "execution_count": 18,
   "id": "8bf05265",
   "metadata": {},
   "outputs": [
    {
     "data": {
      "text/plain": [
       "33"
      ]
     },
     "execution_count": 18,
     "metadata": {},
     "output_type": "execute_result"
    }
   ],
   "source": [
    "len(tickers)"
   ]
  },
  {
   "cell_type": "markdown",
   "id": "65dd4cea",
   "metadata": {},
   "source": [
    "# Data"
   ]
  },
  {
   "cell_type": "markdown",
   "id": "092eeb23",
   "metadata": {},
   "source": [
    "5 Year Return"
   ]
  },
  {
   "cell_type": "code",
   "execution_count": 19,
   "id": "471cfd7a",
   "metadata": {},
   "outputs": [
    {
     "name": "stdout",
     "output_type": "stream",
     "text": [
      "[*********************100%***********************]  33 of 33 completed\n"
     ]
    }
   ],
   "source": [
    "data = yf.download(tickers, start=start_date, end=end_date)\n",
    "daily_returns = data['Adj Close'].pct_change()\n",
    "#daily_returns.to_csv(\"Data/stock_5y_returns.csv\")"
   ]
  },
  {
   "cell_type": "markdown",
   "id": "3ba892f9",
   "metadata": {},
   "source": [
    "fama french 3 factors"
   ]
  },
  {
   "cell_type": "code",
   "execution_count": 20,
   "id": "ccfa9040",
   "metadata": {},
   "outputs": [],
   "source": [
    "ff_factors = web.DataReader('F-F_Research_Data_Factors_daily', 'famafrench', start_date, end_date)[0]\n",
    "#ff_factors.to_csv('Data/ff_factors 5y.csv')"
   ]
  },
  {
   "cell_type": "markdown",
   "id": "8037edbd",
   "metadata": {},
   "source": [
    "50 days moving average"
   ]
  },
  {
   "cell_type": "code",
   "execution_count": 21,
   "id": "269677b5",
   "metadata": {},
   "outputs": [],
   "source": [
    "ma_50 = data['Adj Close'].rolling(window=50).mean()\n",
    "\n",
    "suffix = '_ma50'\n",
    "ma_50.columns = [f'{col}{suffix}' for col in ma_50.columns]\n",
    "\n",
    "#ma_50.to_csv('Data/moving_average.csv')"
   ]
  },
  {
   "cell_type": "markdown",
   "id": "b375423d",
   "metadata": {},
   "source": [
    "14 days rsi"
   ]
  },
  {
   "cell_type": "code",
   "execution_count": 22,
   "id": "6d8ac32c",
   "metadata": {},
   "outputs": [],
   "source": [
    "def calculate_rsi(data, window=14):\n",
    "    delta = data.diff()\n",
    "    gain = (delta.where(delta > 0, 0)).rolling(window=window).mean()\n",
    "    loss = (-delta.where(delta < 0, 0)).rolling(window=window).mean()\n",
    "\n",
    "    rs = gain / loss\n",
    "    rsi = 100 - (100 / (1 + rs))\n",
    "    return rsi\n",
    "\n",
    "rsi = calculate_rsi(data['Adj Close'], window=14)\n",
    "\n",
    "suffix = '_rsi'\n",
    "rsi.columns = [f'{col}{suffix}' for col in rsi.columns]\n",
    "\n",
    "#rsi.to_csv('Data/rsi.csv')"
   ]
  },
  {
   "cell_type": "markdown",
   "id": "6a97e87a",
   "metadata": {},
   "source": [
    "macd"
   ]
  },
  {
   "cell_type": "code",
   "execution_count": 23,
   "id": "f51968b7",
   "metadata": {},
   "outputs": [],
   "source": [
    "def calculate_macd(data, span1=12, span2=26, signal_span=9):\n",
    "    ema_short = data.ewm(span=span1, adjust=False).mean()\n",
    "    ema_long = data.ewm(span=span2, adjust=False).mean()\n",
    "    macd = ema_short - ema_long\n",
    "    signal = macd.ewm(span=signal_span, adjust=False).mean()\n",
    "    return macd, signal\n",
    "\n",
    "macd, signal = calculate_macd(data['Adj Close'])\n",
    "\n",
    "suffix = '_macd'\n",
    "macd.columns = [f'{col}{suffix}' for col in macd.columns]\n",
    "\n",
    "suffix = '_macds'\n",
    "signal.columns = [f'{col}{suffix}' for col in signal.columns]\n",
    "\n",
    "#macd.to_csv('Data/macd.csv')\n",
    "#signal.to_csv('Data/macd_signal.csv')"
   ]
  },
  {
   "cell_type": "markdown",
   "id": "f9c8325f",
   "metadata": {},
   "source": [
    "macros, foward filled, daily"
   ]
  },
  {
   "cell_type": "code",
   "execution_count": 24,
   "id": "d70d95ae",
   "metadata": {},
   "outputs": [],
   "source": [
    "indicators = {\n",
    "    'GDP': 'GDP',\n",
    "    'CPIAUCSL': 'CPI',  # Consumer Price Index for All Urban Consumers: All Items in U.S. City Average\n",
    "    'UNRATE': 'Unemployment Rate',  # Unemployment Rate\n",
    "    'FEDFUNDS': 'Federal Funds Rate',  # Effective Federal Funds Rate\n",
    "    'RSXFS': 'Retail Sales'  # Retail Sales: Retail Trade and Food Services\n",
    "}\n",
    "\n",
    "macro = pdr.DataReader(list(indicators.keys()), 'fred', start_date, end_date)\n",
    "\n",
    "macro.rename(columns=indicators, inplace=True)\n",
    "\n",
    "\n",
    "#macro.to_csv('Data/macroeconomic_indicators.csv')"
   ]
  },
  {
   "cell_type": "markdown",
   "id": "52763f14",
   "metadata": {},
   "source": [
    "bollinger band"
   ]
  },
  {
   "cell_type": "code",
   "execution_count": 25,
   "id": "051639e2",
   "metadata": {},
   "outputs": [],
   "source": [
    "def calculate_bollinger_bands(data, window=20, num_of_std=2):\n",
    "    rolling_mean = data.rolling(window=window).mean()\n",
    "    rolling_std = data.rolling(window=window).std()\n",
    "\n",
    "    upper_band = rolling_mean + (rolling_std * num_of_std)\n",
    "    lower_band = rolling_mean - (rolling_std * num_of_std)\n",
    "\n",
    "    return rolling_mean, upper_band, lower_band\n",
    "\n",
    "middle_band, upper_band, lower_band = calculate_bollinger_bands(data['Adj Close'])\n",
    "\n",
    "suffix = '_bm'\n",
    "middle_band.columns = [f'{col}{suffix}' for col in middle_band.columns]\n",
    "\n",
    "suffix = '_bu'\n",
    "upper_band.columns = [f'{col}{suffix}' for col in upper_band.columns]\n",
    "\n",
    "suffix = '_bl'\n",
    "lower_band.columns = [f'{col}{suffix}' for col in lower_band.columns]\n",
    "\n",
    "#middle_band.to_csv('Data/bollinger_middle.csv')\n",
    "#upper_band.to_csv('Data/bollinger_upper.csv')\n",
    "#lower_band.to_csv('Data/bollinger_lower.csv')"
   ]
  },
  {
   "cell_type": "markdown",
   "id": "e6ad0afa",
   "metadata": {},
   "source": [
    "merge data"
   ]
  },
  {
   "cell_type": "code",
   "execution_count": 26,
   "id": "05ea31fc",
   "metadata": {},
   "outputs": [],
   "source": [
    "returns = pd.read_csv('Data/stock_5y_returns.csv')\n",
    "factors = pd.read_csv('Data/ff_factors 5y.csv')\n",
    "MA = pd.read_csv (\"Data/moving_average.csv\")\n",
    "rsi = pd.read_csv('Data/rsi.csv')\n",
    "macd = pd.read_csv('Data/macd.csv')\n",
    "\n",
    "macd_s = pd.read_csv(\"Data/macd_signal.csv\")\n",
    "\n",
    "B_m = pd.read_csv('Data/bollinger_middle.csv')\n",
    "B_u = pd.read_csv('Data/bollinger_upper.csv')\n",
    "B_l = pd.read_csv('Data/bollinger_lower.csv')\n",
    "macro = pd.read_csv('Data/macroeconomic_indicators.csv')\n",
    "macro.columns = ['Date', 'GDP', 'CPI', 'Unemployment Rate', 'Federal Funds Rate',\n",
    "       'Retail Sales']\n",
    "macro.set_index('Date', inplace = True)\n",
    "new_index = pd.date_range(start=start_date, end=end_date, freq='D')\n",
    "macro.index = pd.to_datetime(macro.index)\n",
    "macro = macro.ffill().reindex(new_index, method='ffill')\n",
    "macro['Date'] = macro.index.astype(str)"
   ]
  },
  {
   "cell_type": "code",
   "execution_count": 27,
   "id": "df8b7828",
   "metadata": {},
   "outputs": [],
   "source": [
    "temp = pd.merge(returns, macro, on='Date', how='left', suffixes=('_ret', '_MA'))\n",
    "for variable in [factors, MA, rsi, macd, macd_s, B_m, B_u, B_l]:\n",
    "    temp = pd.merge(temp, variable, on='Date', how='outer')"
   ]
  },
  {
   "cell_type": "code",
   "execution_count": 28,
   "id": "178b863c",
   "metadata": {},
   "outputs": [],
   "source": [
    "merged = temp.dropna().set_index('Date')\n",
    "#merged.to_csv('Data/merged.csv')"
   ]
  },
  {
   "cell_type": "code",
   "execution_count": 29,
   "id": "c2656eb7",
   "metadata": {},
   "outputs": [
    {
     "data": {
      "text/plain": [
       "1241"
      ]
     },
     "execution_count": 29,
     "metadata": {},
     "output_type": "execute_result"
    }
   ],
   "source": [
    "len(merged)"
   ]
  },
  {
   "cell_type": "code",
   "execution_count": null,
   "id": "c95e8be3",
   "metadata": {},
   "outputs": [],
   "source": []
  }
 ],
 "metadata": {
  "kernelspec": {
   "display_name": "Python 3 (ipykernel)",
   "language": "python",
   "name": "python3"
  },
  "language_info": {
   "codemirror_mode": {
    "name": "ipython",
    "version": 3
   },
   "file_extension": ".py",
   "mimetype": "text/x-python",
   "name": "python",
   "nbconvert_exporter": "python",
   "pygments_lexer": "ipython3",
   "version": "3.9.7"
  }
 },
 "nbformat": 4,
 "nbformat_minor": 5
}
